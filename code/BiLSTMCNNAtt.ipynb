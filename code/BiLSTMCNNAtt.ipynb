{
  "nbformat": 4,
  "nbformat_minor": 0,
  "metadata": {
    "colab": {
      "name": "BiLSTMCNNAtt.ipynb",
      "provenance": [],
      "authorship_tag": "ABX9TyN3SUimWR/qNui1po9g3R9U"
    },
    "kernelspec": {
      "name": "python3",
      "display_name": "Python 3"
    },
    "language_info": {
      "name": "python"
    },
    "accelerator": "GPU"
  },
  "cells": [
    {
      "cell_type": "code",
      "metadata": {
        "colab": {
          "base_uri": "https://localhost:8080/"
        },
        "id": "fNUz-2aB5_jt",
        "outputId": "05522eaa-8c7d-4d10-eff4-69f5e30b0d99"
      },
      "source": [
        "from google.colab import drive\n",
        "drive.mount('/content/gdrive')"
      ],
      "execution_count": 1,
      "outputs": [
        {
          "output_type": "stream",
          "name": "stdout",
          "text": [
            "Mounted at /content/gdrive\n"
          ]
        }
      ]
    },
    {
      "cell_type": "code",
      "metadata": {
        "id": "Ls-48Cgd6GUd"
      },
      "source": [
        "import os\n",
        "import sys\n",
        "import numpy as np\n",
        "import pandas as pd\n",
        "import matplotlib.pyplot as plt"
      ],
      "execution_count": 2,
      "outputs": []
    },
    {
      "cell_type": "code",
      "metadata": {
        "colab": {
          "base_uri": "https://localhost:8080/"
        },
        "id": "jd_B68ri6R0D",
        "outputId": "4dadda41-31d4-4a5e-e72a-7426171db64e"
      },
      "source": [
        "data = pd.read_csv('/content/gdrive/My Drive/uci-news-aggregator.csv',usecols=['TITLE','CATEGORY'])\n",
        "print(data.head())"
      ],
      "execution_count": 3,
      "outputs": [
        {
          "output_type": "stream",
          "name": "stdout",
          "text": [
            "                                               TITLE CATEGORY\n",
            "0  Fed official says weak data caused by weather,...        b\n",
            "1  Fed's Charles Plosser sees high bar for change...        b\n",
            "2  US open: Stocks fall after Fed official hints ...        b\n",
            "3  Fed risks falling 'behind the curve', Charles ...        b\n",
            "4  Fed's Plosser: Nasty Weather Has Curbed Job Gr...        b\n"
          ]
        }
      ]
    },
    {
      "cell_type": "code",
      "metadata": {
        "colab": {
          "base_uri": "https://localhost:8080/"
        },
        "id": "mJQsFv566UIA",
        "outputId": "fe2c313f-521a-43f3-982a-75ccd48b1583"
      },
      "source": [
        "data.CATEGORY.value_counts()"
      ],
      "execution_count": 4,
      "outputs": [
        {
          "output_type": "execute_result",
          "data": {
            "text/plain": [
              "e    152469\n",
              "b    115967\n",
              "t    108344\n",
              "m     45639\n",
              "Name: CATEGORY, dtype: int64"
            ]
          },
          "metadata": {},
          "execution_count": 4
        }
      ]
    },
    {
      "cell_type": "code",
      "metadata": {
        "colab": {
          "base_uri": "https://localhost:8080/"
        },
        "id": "4O1_zFNb6YIi",
        "outputId": "6c49d55c-ca32-480a-c8b1-069f0d00a149"
      },
      "source": [
        "num_of_categories = 45639\n",
        "shuffled = data.reindex(np.random.permutation(data.index))\n",
        "e = shuffled[shuffled['CATEGORY'] == 'e'][:num_of_categories]\n",
        "b = shuffled[shuffled['CATEGORY'] == 'b'][:num_of_categories]\n",
        "t = shuffled[shuffled['CATEGORY'] == 't'][:num_of_categories]\n",
        "m = shuffled[shuffled['CATEGORY'] == 'm'][:num_of_categories]\n",
        "#shuffled new dataset\n",
        "new_data = pd.concat([e,b,t,m], ignore_index=True)\n",
        "new_data = new_data.reindex(np.random.permutation(new_data.index))\n",
        "print(new_data)"
      ],
      "execution_count": 5,
      "outputs": [
        {
          "output_type": "stream",
          "name": "stdout",
          "text": [
            "                                                    TITLE CATEGORY\n",
            "150806    Report: Married folks have fewer heart problems        m\n",
            "146937  US storage room clear-out uncovers vials of sm...        m\n",
            "47091   A Libyan Militia Tries—and Fails—to Sell Crude...        b\n",
            "162406  Sperm, semen defects may be linked to shorter ...        m\n",
            "46535   Report: Sprint and T-Mobile have agreed to mer...        b\n",
            "...                                                   ...      ...\n",
            "181534  Cochlear Implant Shocks Can Help Regrow Audito...        m\n",
            "148704             Smell test may help detect Alzheimer's        m\n",
            "132839  Ford Shows a New Mustang but Holds Back the De...        t\n",
            "47019                Markets hit as investors dump stocks        b\n",
            "68015   Asia stocks muted as China data, Wall St weigh...        b\n",
            "\n",
            "[182556 rows x 2 columns]\n"
          ]
        }
      ]
    },
    {
      "cell_type": "code",
      "metadata": {
        "colab": {
          "base_uri": "https://localhost:8080/"
        },
        "id": "TVdLdVYa6q9H",
        "outputId": "c17ec2ca-5e5b-4d01-9466-969b9605742c"
      },
      "source": [
        "#adding a new column to the new_data\n",
        "new_data['LABEL']=0\n",
        "new_data.head()\n",
        "new_data.loc[new_data['CATEGORY'] == 'e', 'LABEL'] = 0\n",
        "new_data.loc[new_data['CATEGORY'] == 'b', 'LABEL'] = 1\n",
        "new_data.loc[new_data['CATEGORY'] == 't', 'LABEL'] = 2\n",
        "new_data.loc[new_data['CATEGORY'] == 'm', 'LABEL'] = 3\n",
        "print(new_data['LABEL'][:10])\n",
        "from tensorflow.keras.utils import to_categorical\n",
        "labels = to_categorical(new_data['LABEL'], num_classes=4)\n",
        "print(labels[:10])"
      ],
      "execution_count": 6,
      "outputs": [
        {
          "output_type": "stream",
          "name": "stdout",
          "text": [
            "150806    3\n",
            "146937    3\n",
            "47091     1\n",
            "162406    3\n",
            "46535     1\n",
            "77675     1\n",
            "81498     1\n",
            "105599    2\n",
            "179923    3\n",
            "150731    3\n",
            "Name: LABEL, dtype: int64\n",
            "[[0. 0. 0. 1.]\n",
            " [0. 0. 0. 1.]\n",
            " [0. 1. 0. 0.]\n",
            " [0. 0. 0. 1.]\n",
            " [0. 1. 0. 0.]\n",
            " [0. 1. 0. 0.]\n",
            " [0. 1. 0. 0.]\n",
            " [0. 0. 1. 0.]\n",
            " [0. 0. 0. 1.]\n",
            " [0. 0. 0. 1.]]\n"
          ]
        }
      ]
    },
    {
      "cell_type": "code",
      "metadata": {
        "colab": {
          "base_uri": "https://localhost:8080/"
        },
        "id": "xLKrdEuq63f6",
        "outputId": "abd437db-0aaa-489d-f337-f734ca948717"
      },
      "source": [
        "l = list(new_data.TITLE.values)\n",
        "m = len(max(l,key=len))\n",
        "m"
      ],
      "execution_count": 7,
      "outputs": [
        {
          "output_type": "execute_result",
          "data": {
            "text/plain": [
              "28426"
            ]
          },
          "metadata": {},
          "execution_count": 7
        }
      ]
    },
    {
      "cell_type": "code",
      "metadata": {
        "colab": {
          "base_uri": "https://localhost:8080/"
        },
        "id": "10MZpoiq7HL7",
        "outputId": "ed552197-4f63-4aa3-c3c2-23c51dd1e0c3"
      },
      "source": [
        "most_common = 20000\n",
        "max_len = 100\n",
        "from tensorflow.keras.preprocessing.text import Tokenizer\n",
        "tok = Tokenizer(num_words = most_common,filters='!\"#$%&()*+,-./:;<=>?@[\\\\]^_`{|}~\\t\\n', lower=True)\n",
        "tok.fit_on_texts(new_data['TITLE'].values)\n",
        "sequences = tok.texts_to_sequences(new_data['TITLE'].values)\n",
        "word_index = tok.word_index\n",
        "print('Found %s unique tokens.' % len(word_index))\n",
        "from tensorflow.keras.preprocessing.sequence import pad_sequences\n",
        "X_data = pad_sequences(sequences, maxlen = max_len)\n",
        "X_data"
      ],
      "execution_count": 8,
      "outputs": [
        {
          "output_type": "stream",
          "name": "stdout",
          "text": [
            "Found 52832 unique tokens.\n"
          ]
        },
        {
          "output_type": "execute_result",
          "data": {
            "text/plain": [
              "array([[   0,    0,    0, ..., 1957,  154,  780],\n",
              "       [   0,    0,    0, ..., 1824,    4, 1593],\n",
              "       [   0,    0,    0, ...,    1,  431, 1478],\n",
              "       ...,\n",
              "       [   0,    0,    0, ...,   99,    3,  749],\n",
              "       [   0,    0,    0, ...,  711, 6702,   74],\n",
              "       [   0,    0,    0, ..., 9257,  261, 7063]], dtype=int32)"
            ]
          },
          "metadata": {},
          "execution_count": 8
        }
      ]
    },
    {
      "cell_type": "code",
      "metadata": {
        "colab": {
          "base_uri": "https://localhost:8080/"
        },
        "id": "aj4cW-mI8k9E",
        "outputId": "2978220f-95dd-4fb3-be93-22b095201cea"
      },
      "source": [
        "from sklearn.model_selection import train_test_split\n",
        "X_train, X_test, y_train, y_test = train_test_split(X_data , labels, test_size=0.25, random_state=42)\n",
        "epochs = 2\n",
        "embed_dim = 100\n",
        "batch_size = 50\n",
        "print((X_train.shape, y_train.shape, X_test.shape, y_test.shape))"
      ],
      "execution_count": 9,
      "outputs": [
        {
          "output_type": "stream",
          "name": "stdout",
          "text": [
            "((136917, 100), (136917, 4), (45639, 100), (45639, 4))\n"
          ]
        }
      ]
    },
    {
      "cell_type": "code",
      "metadata": {
        "id": "TeA71_Y48xu7"
      },
      "source": [
        "#building the nlp model\n",
        "#loading the word vectors\n",
        "#loading pretrained wordvectors\n",
        "word2vec = {}\n",
        "with open(os.path.join('/content/gdrive/My Drive/glove.6B.100d.txt'),encoding='utf8') as f:\n",
        "    for line in f:\n",
        "        values = line.rstrip().rsplit(' ')\n",
        "        word = values[0]\n",
        "        coefs = np.asarray(values[1:], dtype='float32')\n",
        "        word2vec[word] = coefs\n",
        "num_of_words = min(most_common, len(word_index)+1)\n",
        "embedding_matrix = np.zeros((num_of_words,embed_dim))\n",
        "for word,i in word_index.items():\n",
        "    if i < num_of_words:\n",
        "        embedd_vec = word2vec.get(word)\n",
        "        if embedd_vec is not None:\n",
        "            embedding_matrix[i] = embedd_vec\n"
      ],
      "execution_count": 10,
      "outputs": []
    },
    {
      "cell_type": "code",
      "metadata": {
        "id": "816f4VoR9PXv"
      },
      "source": [
        "def attentionLayer(hidden_vectors,cnn_vector):\n",
        "  hidden_size = int(hidden_vectors.shape[2])\n",
        "  preActivation = Dense(hidden_size, use_bias=False, activation= \"tanh\")(cnn_vector)\n",
        "  h_t = Lambda(lambda x: x[:, -1, :], output_shape=(hidden_size,), name='last_hidden_state')(hidden_vectors)\n",
        "  score = dot([cnn_vector,h_t], [2, 1])\n",
        "  alphas = Activation('softmax')(score)\n",
        "  contextVector = Dot(axes=[1, 1], name='context_vector')([cnn_vector, alphas])\n",
        "  return contextVector\n",
        "\n",
        "from tensorflow.keras.layers import Embedding\n",
        "from tensorflow.keras.layers import Input\n",
        "from tensorflow.keras.layers import Dense\n",
        "from tensorflow.keras.layers import GlobalMaxPooling1D, Dropout\n",
        "from tensorflow.keras.layers import LSTM, Bidirectional\n",
        "from tensorflow.keras.layers import Dense, Lambda, Dot, Activation, Concatenate, dot\n",
        "from tensorflow.keras.layers import Conv1D, MaxPooling1D,GlobalMaxPool1D\n",
        "from tensorflow.keras.models import Model\n",
        "from tensorflow.keras.optimizers import  Adam\n",
        "from tensorflow.keras.callbacks import Callback\n",
        "import tensorflow\n",
        "def createModel(num_of_words, max_len, embedMatrix, lstm_units, num_classes):\n",
        "  #creating the embedding layer\n",
        "  embedding_layer = Embedding(input_dim=num_of_words,output_dim=max_len,weights=[embedMatrix],input_length=max_len,trainable=False)\n",
        "  #input_layer\n",
        "  input_layer = Input((max_len,),name='InputLayer')\n",
        "  #embedding layer\n",
        "  embedding_layer = embedding_layer(input_layer)\n",
        "  #bi-directional LSTM layer\n",
        "  lstm = Bidirectional(LSTM(50,return_sequences=True))(embedding_layer)\n",
        "  #dropout layer\n",
        "  drop_lstm = Dropout(0.3)(lstm)\n",
        "  #CNN layers\n",
        "  first_conv_layer = Conv1D(100, 3, activation='relu')(lstm)\n",
        "  first_conv_max_pooling = MaxPooling1D(3)(first_conv_layer)\n",
        "\n",
        "  #attention mechanism\n",
        "  attention = attentionLayer(lstm, first_conv_max_pooling ) \n",
        "  output_layer = Dense(4, use_bias=False, activation='softmax', name='attention_vector')(attention)\n",
        "  model = Model(input_layer,output_layer)\n",
        "  model.compile(\n",
        "          loss='categorical_crossentropy',\n",
        "          optimizer=Adam(learning_rate=0.01),\n",
        "          metrics=['accuracy']\n",
        "              )\n",
        "  return model\n",
        "\n",
        "model = createModel(num_of_words, max_len,  embedding_matrix, lstm_units=50, num_classes=4)"
      ],
      "execution_count": 11,
      "outputs": []
    },
    {
      "cell_type": "code",
      "metadata": {
        "colab": {
          "base_uri": "https://localhost:8080/"
        },
        "id": "tbYKdXEh9fpI",
        "outputId": "15e26ad5-a3d3-4ef2-e63e-aa977f99823b"
      },
      "source": [
        "from tensorflow.keras.callbacks import Callback\n",
        "import tensorflow\n",
        "\n",
        "class MyThresholdCallback(tensorflow.keras.callbacks.Callback):\n",
        "    def __init__(self, threshold):\n",
        "        super(MyThresholdCallback, self).__init__()\n",
        "        self.threshold = threshold\n",
        "\n",
        "    def on_epoch_end(self, epoch, logs=None): \n",
        "        acc = logs[\"accuracy\"]\n",
        "        if acc >= self.threshold:\n",
        "            self.model.stop_training = True\n",
        "\n",
        "\n",
        "callback=MyThresholdCallback(threshold=0.93)\n",
        "r = model.fit(\n",
        "           X_train, y_train,\n",
        "            batch_size=50,\n",
        "            epochs=200,\n",
        "            validation_split=0.2,\n",
        "            callbacks=[callback]  \n",
        "            )"
      ],
      "execution_count": 12,
      "outputs": [
        {
          "output_type": "stream",
          "name": "stdout",
          "text": [
            "Epoch 1/200\n",
            "2191/2191 [==============================] - 148s 52ms/step - loss: 0.3689 - accuracy: 0.8677 - val_loss: 0.3208 - val_accuracy: 0.8854\n",
            "Epoch 2/200\n",
            "2191/2191 [==============================] - 109s 50ms/step - loss: 0.2785 - accuracy: 0.9015 - val_loss: 0.2894 - val_accuracy: 0.8979\n",
            "Epoch 3/200\n",
            "2191/2191 [==============================] - 116s 53ms/step - loss: 0.2496 - accuracy: 0.9114 - val_loss: 0.2949 - val_accuracy: 0.8991\n",
            "Epoch 4/200\n",
            "2191/2191 [==============================] - 115s 52ms/step - loss: 0.2325 - accuracy: 0.9170 - val_loss: 0.2811 - val_accuracy: 0.9032\n",
            "Epoch 5/200\n",
            "2191/2191 [==============================] - 114s 52ms/step - loss: 0.2197 - accuracy: 0.9223 - val_loss: 0.2910 - val_accuracy: 0.8997\n",
            "Epoch 6/200\n",
            "2191/2191 [==============================] - 113s 52ms/step - loss: 0.2104 - accuracy: 0.9244 - val_loss: 0.2879 - val_accuracy: 0.9015\n",
            "Epoch 7/200\n",
            "2191/2191 [==============================] - 113s 52ms/step - loss: 0.2032 - accuracy: 0.9276 - val_loss: 0.2857 - val_accuracy: 0.9035\n",
            "Epoch 8/200\n",
            "2191/2191 [==============================] - 113s 52ms/step - loss: 0.1954 - accuracy: 0.9296 - val_loss: 0.2919 - val_accuracy: 0.9029\n",
            "Epoch 9/200\n",
            "2191/2191 [==============================] - 113s 52ms/step - loss: 0.1908 - accuracy: 0.9309 - val_loss: 0.2932 - val_accuracy: 0.9047\n"
          ]
        }
      ]
    },
    {
      "cell_type": "code",
      "metadata": {
        "colab": {
          "base_uri": "https://localhost:8080/",
          "height": 545
        },
        "id": "gcMjcsKA9rXB",
        "outputId": "e781eadc-a234-43cb-ac7d-d660c9e93ec2"
      },
      "source": [
        "import matplotlib.pyplot as plt\n",
        "\n",
        "acc = r.history['accuracy']\n",
        "val_acc = r.history['val_accuracy']\n",
        "loss = r.history['loss']\n",
        "val_loss = r.history['val_loss']\n",
        "epochs = range(1, len(acc) + 1)\n",
        "plt.plot(epochs, acc, label='Training acc')\n",
        "plt.plot(epochs, val_acc, label='Validation acc')\n",
        "plt.title('Training and validation accuracy')\n",
        "plt.legend()\n",
        "plt.figure()\n",
        "plt.plot(epochs, loss, label='Training loss')\n",
        "plt.plot(epochs, val_loss,label='Validation loss')\n",
        "plt.title('Training and validation loss')\n",
        "plt.legend()\n",
        "plt.show()"
      ],
      "execution_count": 13,
      "outputs": [
        {
          "output_type": "display_data",
          "data": {
            "image/png": "[encoded data removed]",
            "text/plain": [
              "<Figure size 432x288 with 1 Axes>"
            ]
          },
          "metadata": {
            "needs_background": "light"
          }
        },
        {
          "output_type": "display_data",
          "data": {
            "image/png": "[encoded data removed]",
            "text/plain": [
              "<Figure size 432x288 with 1 Axes>"
            ]
          },
          "metadata": {
            "needs_background": "light"
          }
        }
      ]
    },
    {
      "cell_type": "code",
      "metadata": {
        "colab": {
          "base_uri": "https://localhost:8080/"
        },
        "id": "q_4_4uqDG4rY",
        "outputId": "6f73d24f-4e2a-4e60-916c-bcca3a24271b"
      },
      "source": [
        "txt = [\"Regular fast food eating linked to fertility issues in women\"]\n",
        "seq = tok.texts_to_sequences(txt)\n",
        "padded = pad_sequences(seq, maxlen=max_len)\n",
        "pred = model.predict(padded)\n",
        "labels = ['entertainment', 'bussiness', 'technology', 'medical']\n",
        "print(pred, labels[np.argmax(pred)])"
      ],
      "execution_count": 14,
      "outputs": [
        {
          "output_type": "stream",
          "name": "stdout",
          "text": [
            "[[2.4735189e-07 7.1534714e-06 2.2652893e-07 9.9999237e-01]] medical\n"
          ]
        }
      ]
    },
    {
      "cell_type": "code",
      "metadata": {
        "id": "rnTGIY-WHgXO"
      },
      "source": [
        "model.save(\"bilstmCNNAtt.h5\")"
      ],
      "execution_count": 19,
      "outputs": []
    },
    {
      "cell_type": "code",
      "metadata": {
        "id": "Tlotz0ydID5V"
      },
      "source": [
        "dataCopy = data"
      ],
      "execution_count": 17,
      "outputs": []
    },
    {
      "cell_type": "code",
      "metadata": {
        "id": "724g411RIBb0"
      },
      "source": [
        ""
      ],
      "execution_count": null,
      "outputs": []
    }
  ]
}